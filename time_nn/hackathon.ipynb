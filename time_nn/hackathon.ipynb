{
  "nbformat": 4,
  "nbformat_minor": 0,
  "metadata": {
    "colab": {
      "name": "hackathon.ipynb",
      "version": "0.3.2",
      "provenance": [],
      "collapsed_sections": []
    },
    "kernelspec": {
      "name": "python3",
      "display_name": "Python 3"
    },
    "accelerator": "GPU"
  },
  "cells": [
    {
      "metadata": {
        "id": "XlUeKHyVKnus",
        "colab_type": "code",
        "colab": {}
      },
      "cell_type": "code",
      "source": [
        "import numpy as np\n",
        "import scipy.io\n",
        "from matplotlib import pyplot as plt\n",
        "from sklearn.model_selection import train_test_split\n",
        "\n",
        "import tensorflow as tf\n",
        "from tensorflow.python.keras.layers import LSTM, GRU, TimeDistributed, Input, Conv1D, Dropout, Reshape, Dense, Softmax, BatchNormalization, MaxPooling1D, AveragePooling1D, Flatten\n",
        "from tensorflow.python.keras.models import Sequential, Model\n",
        "\n",
        "import pandas as pd\n",
        "import subprocess\n",
        "\n",
        "from sklearn.model_selection import train_test_split\n",
        "\n",
        "import random"
      ],
      "execution_count": 0,
      "outputs": []
    },
    {
      "metadata": {
        "id": "xILZzdfqzpYc",
        "colab_type": "text"
      },
      "cell_type": "markdown",
      "source": [
        "# Load data"
      ]
    },
    {
      "metadata": {
        "id": "hQYRR1EUzo6z",
        "colab_type": "code",
        "outputId": "18d4944b-b8bc-4899-be87-f10b2453766d",
        "colab": {
          "base_uri": "https://localhost:8080/",
          "height": 34
        }
      },
      "cell_type": "code",
      "source": [
        "from google.colab import drive\n",
        "drive.mount('/drive/', force_remount=True)\n",
        "DRIVE_PATH = \"/drive/My Drive/\""
      ],
      "execution_count": 2,
      "outputs": [
        {
          "output_type": "stream",
          "text": [
            "Mounted at /drive/\n"
          ],
          "name": "stdout"
        }
      ]
    },
    {
      "metadata": {
        "id": "rkI7Y3V-sEkT",
        "colab_type": "code",
        "outputId": "91e3adb9-95f0-4905-b4bd-ec28d2ce9d6c",
        "colab": {
          "base_uri": "https://localhost:8080/",
          "height": 63
        }
      },
      "cell_type": "code",
      "source": [
        "# Change working directory\n",
        "import os\n",
        "os.chdir(\"/drive/My Drive/dataCollab\")\n",
        "!pwd"
      ],
      "execution_count": 3,
      "outputs": [
        {
          "output_type": "stream",
          "text": [
            "/drive/My Drive/dataCollab\n"
          ],
          "name": "stdout"
        }
      ]
    },
    {
      "metadata": {
        "id": "JT1EknFv0JTs",
        "colab_type": "code",
        "colab": {}
      },
      "cell_type": "code",
      "source": [
        "for k in ['00', '01', '02', '03', '04', '05', '06', '07', '08', '09', '10']:\n",
        "  for i in range (0, 15):\n",
        "    max_movements = 4 #random.randint(3,5)\n",
        "    cmd = \"python generator.py \" + k + \" \" + str(i) + \" \" + str(max_movements)\n",
        "    process = subprocess.Popen(cmd, shell=True,\n",
        "                             stdout=subprocess.PIPE, \n",
        "                             stderr=subprocess.PIPE)\n",
        "    out, err = process.communicate()\n",
        "    #print(out.decode(\"utf-8\"))\n",
        "    print(\"Generated (\"+ k +\") \" + str(i), end='\\n', flush=True)\n",
        "\n",
        "print(\"\")"
      ],
      "execution_count": 0,
      "outputs": []
    },
    {
      "metadata": {
        "id": "Hq_-s7_3Bxc2",
        "colab_type": "code",
        "outputId": "40b249e2-3890-4dcf-bc74-f5bf81496762",
        "colab": {
          "base_uri": "https://localhost:8080/",
          "height": 136
        }
      },
      "cell_type": "code",
      "source": [
        "X_files = os.listdir('exercises')\n",
        "Y_files = os.listdir('results')\n",
        "X_len = len(X_files)\n",
        "Y_len = len(Y_files)\n",
        "\n",
        "# 4000 samples more or less\n",
        "MAX_SENSORS = 12\n",
        "MAX_MOVEMENTS = 8\n",
        "MAX_SAMPLES = 4000\n",
        "\n",
        "#X = np.zeros((X_len,MAX_SAMPLES,MAX_SENSORS))\n",
        "#Y = np.zeros((Y_len,MAX_SAMPLES,MAX_MOVEMENTS))\n",
        "\n",
        "'''loaded = 0\n",
        "X_mats = []\n",
        "for file in X_files:\n",
        "  try:\n",
        "    mat = pd.read_csv('exercises/' + file).fillna(0).values\n",
        "    \n",
        "    #if mat.shape[0] > 4000:\n",
        "    X_mats.append(mat)\n",
        "    loaded += 1\n",
        "  except:\n",
        "    pass\n",
        "print('Loaded [X] ' + str(loaded) + ' from ' + str(X_len))\n",
        "\n",
        "loaded = 0\n",
        "Y_mats = []\n",
        "for file in Y_files:\n",
        "  try:\n",
        "    mat = pd.read_csv('results/' + file).fillna(0).values\n",
        "    \n",
        "    #if mat.shape[0] > 4000:\n",
        "    Y_mats.append(mat)\n",
        "    loaded += 1\n",
        "  except Exception as e:\n",
        "    print(e)\n",
        "\n",
        "print('Loaded [Y] ' + str(loaded) + ' from ' + str(Y_len))'''\n",
        "\n",
        "X_mats = []\n",
        "Y_mats = []\n",
        "loaded = 0\n",
        "for i in range(0, len(X_files)):\n",
        "  num_seq = int(os.path.splitext(X_files[i])[0].split('-')[-1])\n",
        "  if num_seq != 4:\n",
        "    continue\n",
        "  \n",
        "  try:\n",
        "    mat = pd.read_csv('exercises/' + X_files[i]).fillna(0).values\n",
        "    \n",
        "    if mat.shape[1] != MAX_SENSORS:\n",
        "      continue\n",
        "    \n",
        "    X_mats.append(mat)\n",
        "    loaded += 1\n",
        "  except Exception as e:\n",
        "    print(e)\n",
        "    continue\n",
        "    \n",
        "  try:\n",
        "    mat = pd.read_csv('results/' + Y_files[i]).fillna(0).values\n",
        "    \n",
        "    Y_mats.append(mat)\n",
        "    loaded += 1\n",
        "  except Exception as e:\n",
        "    print(e)\n",
        "\n",
        "print(str(len(X_mats)) + \" \" + str(len(Y_mats)))\n",
        "    \n",
        "X_max = max([a.shape[0] for a in X_mats])\n",
        "for i in range(0, len(X_mats)):\n",
        "  if X_mats[i].shape[0] < X_max:\n",
        "    rem = X_max - X_mats[i].shape[0]\n",
        "    X_mats[i] = np.concatenate((X_mats[i], np.zeros((rem, MAX_SENSORS))), axis=0)\n",
        "\n",
        "X = np.stack(X_mats)\n",
        "print(X.shape)\n",
        "\n",
        "for i in range(0, len(Y_mats)):\n",
        "  if Y_mats[i].shape[0] < X_max:\n",
        "    rem = X_max - Y_mats[i].shape[0]\n",
        "    Y_mats[i] = np.concatenate((Y_mats[i], np.zeros((rem, MAX_MOVEMENTS))), axis=0)  # Poner 1\n",
        "\n",
        "Y = np.stack(Y_mats)\n",
        "print(Y.shape)"
      ],
      "execution_count": 4,
      "outputs": [
        {
          "output_type": "stream",
          "text": [
            "Error tokenizing data. C error: Expected 12 fields in line 7246, saw 18\n",
            "\n",
            "Error tokenizing data. C error: Expected 12 fields in line 15005, saw 21\n",
            "\n",
            "114 114\n",
            "(114, 46008, 12)\n",
            "(114, 46008, 8)\n"
          ],
          "name": "stdout"
        }
      ]
    },
    {
      "metadata": {
        "id": "kuSK4TlZDMVB",
        "colab_type": "code",
        "outputId": "5312f8c4-4616-40bf-9167-0b85eb59e7cd",
        "colab": {
          "base_uri": "https://localhost:8080/",
          "height": 51
        }
      },
      "cell_type": "code",
      "source": [
        "# 4000 samples more or less\n",
        "X = X[:, 0:46000, :]\n",
        "Y = Y[:, 0:46000, :]\n",
        "print(X.shape)\n",
        "print(Y.shape)"
      ],
      "execution_count": 5,
      "outputs": [
        {
          "output_type": "stream",
          "text": [
            "(114, 46000, 12)\n",
            "(114, 46000, 8)\n"
          ],
          "name": "stdout"
        }
      ]
    },
    {
      "metadata": {
        "id": "qd33Gti96LFS",
        "colab_type": "code",
        "outputId": "f049866d-e64e-4972-d5de-204dcaa7e71e",
        "colab": {
          "base_uri": "https://localhost:8080/",
          "height": 34
        }
      },
      "cell_type": "code",
      "source": [
        "x_train, x_test, y_train, y_test = train_test_split(X, Y, test_size=0.3, random_state=69)\n",
        "print(\"x_train : \" + str(x_train.shape) + \" x_test : \" + str(x_test.shape) + \n",
        "      \" y_train : \" + str(y_train.shape) + \" y_test : \" + str(y_test.shape))"
      ],
      "execution_count": 6,
      "outputs": [
        {
          "output_type": "stream",
          "text": [
            "x_train : (79, 46000, 12) x_test : (35, 46000, 12) y_train : (79, 46000, 8) y_test : (35, 46000, 8)\n"
          ],
          "name": "stdout"
        }
      ]
    },
    {
      "metadata": {
        "id": "xtG_-k-054_U",
        "colab_type": "text"
      },
      "cell_type": "markdown",
      "source": [
        "# Net"
      ]
    },
    {
      "metadata": {
        "id": "haQE-YjUZJf9",
        "colab_type": "code",
        "colab": {}
      },
      "cell_type": "code",
      "source": [
        "def sensorLayer(x, filters, kernels, sizes_LSTM, denses, activation='relu', value_dropout=0.45):\n",
        "  length = x.shape[0].value\n",
        "  length_time = x.shape[1].value\n",
        "  \n",
        "  # Convolutions\n",
        "  for i in range(0, len(filters)):\n",
        "    x = Conv1D(filters[i], kernel_size=kernels[i], activation=activation, padding=\"same\")(x)\n",
        "    x = Dropout(value_dropout)(x)\n",
        "    x = MaxPooling1D(pool_size=3)(x)\n",
        "    #x = AveragePooling1D(2)(x)\n",
        "    \n",
        "  # LSTM\n",
        "  for i in range(0, len(sizes_LSTM)):\n",
        "    #x = LSTM(sizes_LSTM[i], return_sequences=True)(x)\n",
        "    x = GRU(sizes_LSTM[i], return_sequences=True)(x)\n",
        "  \n",
        "  # Flatten for classsify\n",
        "  x = Flatten()(x)\n",
        "  #x = Reshape([-1, length_time, -1])(x)\n",
        "  #x = TimeDistributed(Flatten())(x)\n",
        "  \n",
        "  for i in range(0, len(denses)-1):\n",
        "    x = Dense(denses[i],activation='relu')(x)\n",
        "  \n",
        "  if len(denses) != 0:\n",
        "     x = Dense(denses[-1],activation=None)(x)\n",
        "  \n",
        "  x = Dropout(value_dropout)(x)\n",
        "  \n",
        "  x = Softmax()(x)\n",
        "  \n",
        "  return x\n",
        "  \n",
        "  "
      ],
      "execution_count": 0,
      "outputs": []
    },
    {
      "metadata": {
        "id": "sCzZO6AKYA73",
        "colab_type": "code",
        "colab": {}
      },
      "cell_type": "code",
      "source": [
        "N_SAMPLES = 4000\n",
        "N_SENSORS = 12\n",
        "N_CLASSES = 8\n",
        "FILTERS = [30, 30, 15]\n",
        "KERNELS = [25, 50, 100]\n",
        "HIDDEN_LSTM = []\n",
        "DENSE = [256, N_CLASSES]\n",
        "\n",
        "#[BATCH, steps, feature]\n",
        "\n",
        "# Generate all inputs\n",
        "inputs = Input(shape=(N_SAMPLES, N_SENSORS), name='inputs')\n",
        "\n",
        "normalized = BatchNormalization(axis=2)(inputs)\n",
        "\n",
        "prediction = sensorLayer(normalized, FILTERS, KERNELS, HIDDEN_LSTM, DENSE)\n",
        "\n",
        "model = Model(inputs=inputs, outputs=prediction)\n"
      ],
      "execution_count": 0,
      "outputs": []
    },
    {
      "metadata": {
        "id": "m6_UsWa8sui5",
        "colab_type": "code",
        "outputId": "e18ac965-6279-45e8-dcb0-cbbf8dd4a24d",
        "colab": {
          "base_uri": "https://localhost:8080/",
          "height": 697
        }
      },
      "cell_type": "code",
      "source": [
        "print(model.summary())"
      ],
      "execution_count": 44,
      "outputs": [
        {
          "output_type": "stream",
          "text": [
            "_________________________________________________________________\n",
            "Layer (type)                 Output Shape              Param #   \n",
            "=================================================================\n",
            "inputs (InputLayer)          (None, 4000, 12)          0         \n",
            "_________________________________________________________________\n",
            "batch_normalization_v1_3 (Ba (None, 4000, 12)          48        \n",
            "_________________________________________________________________\n",
            "conv1d_9 (Conv1D)            (None, 4000, 30)          9030      \n",
            "_________________________________________________________________\n",
            "dropout_12 (Dropout)         (None, 4000, 30)          0         \n",
            "_________________________________________________________________\n",
            "max_pooling1d_9 (MaxPooling1 (None, 1333, 30)          0         \n",
            "_________________________________________________________________\n",
            "conv1d_10 (Conv1D)           (None, 1333, 30)          45030     \n",
            "_________________________________________________________________\n",
            "dropout_13 (Dropout)         (None, 1333, 30)          0         \n",
            "_________________________________________________________________\n",
            "max_pooling1d_10 (MaxPooling (None, 444, 30)           0         \n",
            "_________________________________________________________________\n",
            "conv1d_11 (Conv1D)           (None, 444, 15)           45015     \n",
            "_________________________________________________________________\n",
            "dropout_14 (Dropout)         (None, 444, 15)           0         \n",
            "_________________________________________________________________\n",
            "max_pooling1d_11 (MaxPooling (None, 148, 15)           0         \n",
            "_________________________________________________________________\n",
            "flatten_3 (Flatten)          (None, 2220)              0         \n",
            "_________________________________________________________________\n",
            "dense_6 (Dense)              (None, 256)               568576    \n",
            "_________________________________________________________________\n",
            "dense_7 (Dense)              (None, 8)                 2056      \n",
            "_________________________________________________________________\n",
            "dropout_15 (Dropout)         (None, 8)                 0         \n",
            "_________________________________________________________________\n",
            "softmax_3 (Softmax)          (None, 8)                 0         \n",
            "=================================================================\n",
            "Total params: 669,755\n",
            "Trainable params: 669,731\n",
            "Non-trainable params: 24\n",
            "_________________________________________________________________\n",
            "None\n"
          ],
          "name": "stdout"
        }
      ]
    },
    {
      "metadata": {
        "id": "fZQUhPllsawZ",
        "colab_type": "code",
        "colab": {}
      },
      "cell_type": "code",
      "source": [
        "OPTIMIZER = \"adam\"  # SGD\n",
        "LOSS = \"categorical_crossentropy\" # categorical_crossentropy\n",
        "\n",
        "model.compile(optimizer=OPTIMIZER,\n",
        "              loss=LOSS, #categorical_crossentropy\n",
        "              metrics=['accuracy'])"
      ],
      "execution_count": 0,
      "outputs": []
    },
    {
      "metadata": {
        "id": "Ie3FplKBsfCf",
        "colab_type": "code",
        "outputId": "04b538b3-c85d-4db2-d257-a34cc4e57103",
        "colab": {
          "base_uri": "https://localhost:8080/",
          "height": 629
        }
      },
      "cell_type": "code",
      "source": [
        "batch_size = 8\n",
        "n_epochs = 10\n",
        "# N_SAMPLES\n",
        "\n",
        "for i in range(0, n_epochs):\n",
        "  for b in range(0, x_train.shape[0] // batch_size):\n",
        "    #ind = np.random.permutation(x_train.shape[0])\n",
        "    ind = np.arange(0, x_train.shape[0], dtype=int)\n",
        "    indb = ind[b * batch_size: (b+1) * batch_size]\n",
        "    \n",
        "    X_2 = x_train[indb]\n",
        "    Y_2 = y_train[indb]\n",
        "    \n",
        "    X_batch_list = []\n",
        "    Y_batch_list = []\n",
        "    for l in range(0, X_2.shape[0]):\n",
        "      for k in range(0, X_2.shape[1] // N_SAMPLES):\n",
        "        X_batch_list.append(X_2[l, k*N_SAMPLES:(k+1)*N_SAMPLES, :])\n",
        "        Y_batch_list.append(Y_2[l, k*N_SAMPLES:(k+1)*N_SAMPLES, :])\n",
        "    \n",
        "    X_2 = np.stack(X_batch_list)\n",
        "    Y_2 = np.stack(Y_batch_list)\n",
        "    \n",
        "    model.fit(X_2, Y_2, epochs=1, batch_size=1, verbose=1, shuffle=False)\n",
        "    #model.reset_states()\n",
        "  print(\"Epoch => \" + str(i))"
      ],
      "execution_count": 41,
      "outputs": [
        {
          "output_type": "error",
          "ename": "ValueError",
          "evalue": "ignored",
          "traceback": [
            "\u001b[0;31m---------------------------------------------------------------------------\u001b[0m",
            "\u001b[0;31mValueError\u001b[0m                                Traceback (most recent call last)",
            "\u001b[0;32m<ipython-input-41-49afb2993f8c>\u001b[0m in \u001b[0;36m<module>\u001b[0;34m()\u001b[0m\n\u001b[1;32m     22\u001b[0m     \u001b[0mY_2\u001b[0m \u001b[0;34m=\u001b[0m \u001b[0mnp\u001b[0m\u001b[0;34m.\u001b[0m\u001b[0mstack\u001b[0m\u001b[0;34m(\u001b[0m\u001b[0mY_batch_list\u001b[0m\u001b[0;34m)\u001b[0m\u001b[0;34m\u001b[0m\u001b[0;34m\u001b[0m\u001b[0m\n\u001b[1;32m     23\u001b[0m \u001b[0;34m\u001b[0m\u001b[0m\n\u001b[0;32m---> 24\u001b[0;31m     \u001b[0mmodel\u001b[0m\u001b[0;34m.\u001b[0m\u001b[0mfit\u001b[0m\u001b[0;34m(\u001b[0m\u001b[0mX_2\u001b[0m\u001b[0;34m,\u001b[0m \u001b[0mY_2\u001b[0m\u001b[0;34m,\u001b[0m \u001b[0mepochs\u001b[0m\u001b[0;34m=\u001b[0m\u001b[0;36m1\u001b[0m\u001b[0;34m,\u001b[0m \u001b[0mbatch_size\u001b[0m\u001b[0;34m=\u001b[0m\u001b[0;36m1\u001b[0m\u001b[0;34m,\u001b[0m \u001b[0mverbose\u001b[0m\u001b[0;34m=\u001b[0m\u001b[0;36m1\u001b[0m\u001b[0;34m,\u001b[0m \u001b[0mshuffle\u001b[0m\u001b[0;34m=\u001b[0m\u001b[0;32mFalse\u001b[0m\u001b[0;34m)\u001b[0m\u001b[0;34m\u001b[0m\u001b[0;34m\u001b[0m\u001b[0m\n\u001b[0m\u001b[1;32m     25\u001b[0m     \u001b[0;31m#model.reset_states()\u001b[0m\u001b[0;34m\u001b[0m\u001b[0;34m\u001b[0m\u001b[0;34m\u001b[0m\u001b[0m\n\u001b[1;32m     26\u001b[0m   \u001b[0mprint\u001b[0m\u001b[0;34m(\u001b[0m\u001b[0;34m\"Epoch => \"\u001b[0m \u001b[0;34m+\u001b[0m \u001b[0mstr\u001b[0m\u001b[0;34m(\u001b[0m\u001b[0mi\u001b[0m\u001b[0;34m)\u001b[0m\u001b[0;34m)\u001b[0m\u001b[0;34m\u001b[0m\u001b[0;34m\u001b[0m\u001b[0m\n",
            "\u001b[0;32m/usr/local/lib/python3.6/dist-packages/tensorflow/python/keras/engine/training.py\u001b[0m in \u001b[0;36mfit\u001b[0;34m(self, x, y, batch_size, epochs, verbose, callbacks, validation_split, validation_data, shuffle, class_weight, sample_weight, initial_epoch, steps_per_epoch, validation_steps, max_queue_size, workers, use_multiprocessing, **kwargs)\u001b[0m\n\u001b[1;32m    774\u001b[0m         \u001b[0msteps\u001b[0m\u001b[0;34m=\u001b[0m\u001b[0msteps_per_epoch\u001b[0m\u001b[0;34m,\u001b[0m\u001b[0;34m\u001b[0m\u001b[0;34m\u001b[0m\u001b[0m\n\u001b[1;32m    775\u001b[0m         \u001b[0mvalidation_split\u001b[0m\u001b[0;34m=\u001b[0m\u001b[0mvalidation_split\u001b[0m\u001b[0;34m,\u001b[0m\u001b[0;34m\u001b[0m\u001b[0;34m\u001b[0m\u001b[0m\n\u001b[0;32m--> 776\u001b[0;31m         shuffle=shuffle)\n\u001b[0m\u001b[1;32m    777\u001b[0m \u001b[0;34m\u001b[0m\u001b[0m\n\u001b[1;32m    778\u001b[0m     \u001b[0;31m# Prepare validation data.\u001b[0m\u001b[0;34m\u001b[0m\u001b[0;34m\u001b[0m\u001b[0;34m\u001b[0m\u001b[0m\n",
            "\u001b[0;32m/usr/local/lib/python3.6/dist-packages/tensorflow/python/keras/engine/training.py\u001b[0m in \u001b[0;36m_standardize_user_data\u001b[0;34m(self, x, y, sample_weight, class_weight, batch_size, check_steps, steps_name, steps, validation_split, shuffle)\u001b[0m\n\u001b[1;32m   2438\u001b[0m           \u001b[0;31m# Additional checks to avoid users mistakenly using improper loss fns.\u001b[0m\u001b[0;34m\u001b[0m\u001b[0;34m\u001b[0m\u001b[0;34m\u001b[0m\u001b[0m\n\u001b[1;32m   2439\u001b[0m           training_utils.check_loss_and_target_compatibility(\n\u001b[0;32m-> 2440\u001b[0;31m               y, self._feed_loss_fns, feed_output_shapes)\n\u001b[0m\u001b[1;32m   2441\u001b[0m     \u001b[0;32melse\u001b[0m\u001b[0;34m:\u001b[0m\u001b[0;34m\u001b[0m\u001b[0;34m\u001b[0m\u001b[0m\n\u001b[1;32m   2442\u001b[0m       \u001b[0my\u001b[0m \u001b[0;34m=\u001b[0m \u001b[0;34m[\u001b[0m\u001b[0;34m]\u001b[0m\u001b[0;34m\u001b[0m\u001b[0;34m\u001b[0m\u001b[0m\n",
            "\u001b[0;32m/usr/local/lib/python3.6/dist-packages/tensorflow/python/keras/engine/training_utils.py\u001b[0m in \u001b[0;36mcheck_loss_and_target_compatibility\u001b[0;34m(targets, loss_fns, output_shapes)\u001b[0m\n\u001b[1;32m    510\u001b[0m           raise ValueError('A target array with shape ' + str(y.shape) +\n\u001b[1;32m    511\u001b[0m                            \u001b[0;34m' was passed for an output of shape '\u001b[0m \u001b[0;34m+\u001b[0m \u001b[0mstr\u001b[0m\u001b[0;34m(\u001b[0m\u001b[0mshape\u001b[0m\u001b[0;34m)\u001b[0m \u001b[0;34m+\u001b[0m\u001b[0;34m\u001b[0m\u001b[0;34m\u001b[0m\u001b[0m\n\u001b[0;32m--> 512\u001b[0;31m                            \u001b[0;34m' while using as loss `'\u001b[0m \u001b[0;34m+\u001b[0m \u001b[0mloss\u001b[0m\u001b[0;34m.\u001b[0m\u001b[0m__name__\u001b[0m \u001b[0;34m+\u001b[0m \u001b[0;34m'`. '\u001b[0m\u001b[0;34m\u001b[0m\u001b[0;34m\u001b[0m\u001b[0m\n\u001b[0m\u001b[1;32m    513\u001b[0m                            \u001b[0;34m'This loss expects '\u001b[0m\u001b[0;34m\u001b[0m\u001b[0;34m\u001b[0m\u001b[0m\n\u001b[1;32m    514\u001b[0m                            \u001b[0;34m'targets to have the same shape '\u001b[0m\u001b[0;34m\u001b[0m\u001b[0;34m\u001b[0m\u001b[0m\n",
            "\u001b[0;31mValueError\u001b[0m: A target array with shape (88, 4000, 8) was passed for an output of shape (None, 8) while using as loss `categorical_crossentropy`. This loss expects targets to have the same shape as the output."
          ]
        }
      ]
    },
    {
      "metadata": {
        "id": "mnys916Mx7sa",
        "colab_type": "code",
        "outputId": "f622640f-b4c3-4bf0-a0a6-ec38f5099dc8",
        "colab": {
          "base_uri": "https://localhost:8080/",
          "height": 969
        }
      },
      "cell_type": "code",
      "source": [
        "batch_size = 4\n",
        "n_epochs = 2\n",
        "\n",
        "SAMPLES_PAD = N_SAMPLES // 2\n",
        "\n",
        "np.random.shuffle(x_train)\n",
        "\n",
        "for i in range(0, n_epochs+1):\n",
        "  for b in range(0, x_train.shape[0] // batch_size):\n",
        "    #ind = np.random.permutation(x_train.shape[0])\n",
        "    ind = np.arange(0, x_train.shape[0], dtype=int)\n",
        "    indb = ind[b * batch_size: (b+1) * batch_size]\n",
        "    \n",
        "    X_2 = x_train[indb]\n",
        "    Y_2 = y_train[indb]\n",
        "    \n",
        "    X_batch_list = []\n",
        "    Y_batch_list = []\n",
        "    for l in range(0, X_2.shape[0]):\n",
        "      #index = SAMPLES_PAD + 1\n",
        "      index = np.random.randint(SAMPLES_PAD + 1, 40000-SAMPLES_PAD)\n",
        "      count = 0\n",
        "      while index <= X_2[l, :, :].shape[0] - SAMPLES_PAD - 1:\n",
        "        X_batch_list.append(X_2[l, index-SAMPLES_PAD:index+SAMPLES_PAD, :])\n",
        "        Y_batch_list.append(Y_2[l, index])\n",
        "        \n",
        "        index += 20\n",
        "        count += 1\n",
        "        \n",
        "        if count == 500:\n",
        "          \n",
        "          rInd = np.random.randint(0, X_2.shape[0])\n",
        "          \n",
        "          X_3 = np.stack(X_batch_list)\n",
        "          Y_3 = np.stack(Y_batch_list)\n",
        "          \n",
        "          #X_3 = X_3[rInd, :, :]\n",
        "          #Y_3 = Y_3[rInd, :]\n",
        "          \n",
        "          model.fit(X_3, Y_3, epochs=1, batch_size=1, verbose=1, shuffle=False)\n",
        "          \n",
        "          X_batch_list = []\n",
        "          Y_batch_list = []\n",
        "          count = 0\n",
        "    \n",
        "    #X_2 = np.stack(X_batch_list)\n",
        "    #Y_2 = np.stack(Y_batch_list)\n",
        "    \n",
        "    #model.fit(X_2, Y_2, epochs=1, batch_size=1, verbose=1, shuffle=False)\n",
        "    #model.reset_states()\n",
        "  print(\"Epoch => \" + str(i))\n",
        "  \n",
        "  # Save model\n",
        "  model_json = model.to_json()\n",
        "  with open(\"model_LSTM.json\", \"w\") as json_file:\n",
        "    json_file.write(model_json)\n",
        "\n",
        "  model.save_weights(\"model_LSTM.h5\")\n",
        "  print(\"Saved model to disk\")"
      ],
      "execution_count": 42,
      "outputs": [
        {
          "output_type": "stream",
          "text": [
            "500/500 [==============================] - 150s 300ms/sample - loss: 0.6120 - acc: 0.9940\n",
            "500/500 [==============================] - 149s 299ms/sample - loss: 0.6624 - acc: 1.0000\n",
            "911/911 [==============================] - 272s 299ms/sample - loss: 7.3343 - acc: 0.4512\n",
            "500/500 [==============================] - 149s 299ms/sample - loss: 4.6484 - acc: 0.3400\n",
            "862/862 [==============================] - 257s 298ms/sample - loss: 7.6354 - acc: 0.1381\n",
            "500/500 [==============================] - 149s 297ms/sample - loss: 2.4254 - acc: 0.1580\n",
            "500/500 [==============================] - 148s 296ms/sample - loss: 0.0000e+00 - acc: 0.1940\n",
            "786/786 [==============================] - 233s 296ms/sample - loss: 8.5405 - acc: 0.1934\n",
            "500/500 [==============================] - 149s 298ms/sample - loss: 13.3184 - acc: 0.1920\n",
            "500/500 [==============================] - 149s 298ms/sample - loss: 0.4378 - acc: 0.4580\n",
            "500/500 [==============================] - 149s 298ms/sample - loss: 0.0000e+00 - acc: 0.2100\n",
            "697/697 [==============================] - 208s 299ms/sample - loss: 0.2175 - acc: 0.3228\n",
            "241/984 [======>.......................] - ETA: 3:40 - loss: 0.0000e+00 - acc: 0.2033"
          ],
          "name": "stdout"
        },
        {
          "output_type": "error",
          "ename": "KeyboardInterrupt",
          "evalue": "ignored",
          "traceback": [
            "\u001b[0;31m---------------------------------------------------------------------------\u001b[0m",
            "\u001b[0;31mKeyboardInterrupt\u001b[0m                         Traceback (most recent call last)",
            "\u001b[0;32m<ipython-input-42-7be9856fb25d>\u001b[0m in \u001b[0;36m<module>\u001b[0;34m()\u001b[0m\n\u001b[1;32m     38\u001b[0m           \u001b[0;31m#Y_3 = Y_3[rInd, :]\u001b[0m\u001b[0;34m\u001b[0m\u001b[0;34m\u001b[0m\u001b[0;34m\u001b[0m\u001b[0m\n\u001b[1;32m     39\u001b[0m \u001b[0;34m\u001b[0m\u001b[0m\n\u001b[0;32m---> 40\u001b[0;31m           \u001b[0mmodel\u001b[0m\u001b[0;34m.\u001b[0m\u001b[0mfit\u001b[0m\u001b[0;34m(\u001b[0m\u001b[0mX_3\u001b[0m\u001b[0;34m,\u001b[0m \u001b[0mY_3\u001b[0m\u001b[0;34m,\u001b[0m \u001b[0mepochs\u001b[0m\u001b[0;34m=\u001b[0m\u001b[0;36m1\u001b[0m\u001b[0;34m,\u001b[0m \u001b[0mbatch_size\u001b[0m\u001b[0;34m=\u001b[0m\u001b[0;36m1\u001b[0m\u001b[0;34m,\u001b[0m \u001b[0mverbose\u001b[0m\u001b[0;34m=\u001b[0m\u001b[0;36m1\u001b[0m\u001b[0;34m,\u001b[0m \u001b[0mshuffle\u001b[0m\u001b[0;34m=\u001b[0m\u001b[0;32mFalse\u001b[0m\u001b[0;34m)\u001b[0m\u001b[0;34m\u001b[0m\u001b[0;34m\u001b[0m\u001b[0m\n\u001b[0m\u001b[1;32m     41\u001b[0m \u001b[0;34m\u001b[0m\u001b[0m\n\u001b[1;32m     42\u001b[0m           \u001b[0mX_batch_list\u001b[0m \u001b[0;34m=\u001b[0m \u001b[0;34m[\u001b[0m\u001b[0;34m]\u001b[0m\u001b[0;34m\u001b[0m\u001b[0;34m\u001b[0m\u001b[0m\n",
            "\u001b[0;32m/usr/local/lib/python3.6/dist-packages/tensorflow/python/keras/engine/training.py\u001b[0m in \u001b[0;36mfit\u001b[0;34m(self, x, y, batch_size, epochs, verbose, callbacks, validation_split, validation_data, shuffle, class_weight, sample_weight, initial_epoch, steps_per_epoch, validation_steps, max_queue_size, workers, use_multiprocessing, **kwargs)\u001b[0m\n\u001b[1;32m    878\u001b[0m           \u001b[0minitial_epoch\u001b[0m\u001b[0;34m=\u001b[0m\u001b[0minitial_epoch\u001b[0m\u001b[0;34m,\u001b[0m\u001b[0;34m\u001b[0m\u001b[0;34m\u001b[0m\u001b[0m\n\u001b[1;32m    879\u001b[0m           \u001b[0msteps_per_epoch\u001b[0m\u001b[0;34m=\u001b[0m\u001b[0msteps_per_epoch\u001b[0m\u001b[0;34m,\u001b[0m\u001b[0;34m\u001b[0m\u001b[0;34m\u001b[0m\u001b[0m\n\u001b[0;32m--> 880\u001b[0;31m           validation_steps=validation_steps)\n\u001b[0m\u001b[1;32m    881\u001b[0m \u001b[0;34m\u001b[0m\u001b[0m\n\u001b[1;32m    882\u001b[0m   def evaluate(self,\n",
            "\u001b[0;32m/usr/local/lib/python3.6/dist-packages/tensorflow/python/keras/engine/training_arrays.py\u001b[0m in \u001b[0;36mmodel_iteration\u001b[0;34m(model, inputs, targets, sample_weights, batch_size, epochs, verbose, callbacks, val_inputs, val_targets, val_sample_weights, shuffle, initial_epoch, steps_per_epoch, validation_steps, mode, validation_in_fit, **kwargs)\u001b[0m\n\u001b[1;32m    327\u001b[0m \u001b[0;34m\u001b[0m\u001b[0m\n\u001b[1;32m    328\u001b[0m         \u001b[0;31m# Get outputs.\u001b[0m\u001b[0;34m\u001b[0m\u001b[0;34m\u001b[0m\u001b[0;34m\u001b[0m\u001b[0m\n\u001b[0;32m--> 329\u001b[0;31m         \u001b[0mbatch_outs\u001b[0m \u001b[0;34m=\u001b[0m \u001b[0mf\u001b[0m\u001b[0;34m(\u001b[0m\u001b[0mins_batch\u001b[0m\u001b[0;34m)\u001b[0m\u001b[0;34m\u001b[0m\u001b[0;34m\u001b[0m\u001b[0m\n\u001b[0m\u001b[1;32m    330\u001b[0m         \u001b[0;32mif\u001b[0m \u001b[0;32mnot\u001b[0m \u001b[0misinstance\u001b[0m\u001b[0;34m(\u001b[0m\u001b[0mbatch_outs\u001b[0m\u001b[0;34m,\u001b[0m \u001b[0mlist\u001b[0m\u001b[0;34m)\u001b[0m\u001b[0;34m:\u001b[0m\u001b[0;34m\u001b[0m\u001b[0;34m\u001b[0m\u001b[0m\n\u001b[1;32m    331\u001b[0m           \u001b[0mbatch_outs\u001b[0m \u001b[0;34m=\u001b[0m \u001b[0;34m[\u001b[0m\u001b[0mbatch_outs\u001b[0m\u001b[0;34m]\u001b[0m\u001b[0;34m\u001b[0m\u001b[0;34m\u001b[0m\u001b[0m\n",
            "\u001b[0;32m/usr/local/lib/python3.6/dist-packages/tensorflow/python/keras/backend.py\u001b[0m in \u001b[0;36m__call__\u001b[0;34m(self, inputs)\u001b[0m\n\u001b[1;32m   3074\u001b[0m \u001b[0;34m\u001b[0m\u001b[0m\n\u001b[1;32m   3075\u001b[0m     fetched = self._callable_fn(*array_vals,\n\u001b[0;32m-> 3076\u001b[0;31m                                 run_metadata=self.run_metadata)\n\u001b[0m\u001b[1;32m   3077\u001b[0m     \u001b[0mself\u001b[0m\u001b[0;34m.\u001b[0m\u001b[0m_call_fetch_callbacks\u001b[0m\u001b[0;34m(\u001b[0m\u001b[0mfetched\u001b[0m\u001b[0;34m[\u001b[0m\u001b[0;34m-\u001b[0m\u001b[0mlen\u001b[0m\u001b[0;34m(\u001b[0m\u001b[0mself\u001b[0m\u001b[0;34m.\u001b[0m\u001b[0m_fetches\u001b[0m\u001b[0;34m)\u001b[0m\u001b[0;34m:\u001b[0m\u001b[0;34m]\u001b[0m\u001b[0;34m)\u001b[0m\u001b[0;34m\u001b[0m\u001b[0;34m\u001b[0m\u001b[0m\n\u001b[1;32m   3078\u001b[0m     return nest.pack_sequence_as(self._outputs_structure,\n",
            "\u001b[0;32m/usr/local/lib/python3.6/dist-packages/tensorflow/python/client/session.py\u001b[0m in \u001b[0;36m__call__\u001b[0;34m(self, *args, **kwargs)\u001b[0m\n\u001b[1;32m   1437\u001b[0m           ret = tf_session.TF_SessionRunCallable(\n\u001b[1;32m   1438\u001b[0m               \u001b[0mself\u001b[0m\u001b[0;34m.\u001b[0m\u001b[0m_session\u001b[0m\u001b[0;34m.\u001b[0m\u001b[0m_session\u001b[0m\u001b[0;34m,\u001b[0m \u001b[0mself\u001b[0m\u001b[0;34m.\u001b[0m\u001b[0m_handle\u001b[0m\u001b[0;34m,\u001b[0m \u001b[0margs\u001b[0m\u001b[0;34m,\u001b[0m \u001b[0mstatus\u001b[0m\u001b[0;34m,\u001b[0m\u001b[0;34m\u001b[0m\u001b[0;34m\u001b[0m\u001b[0m\n\u001b[0;32m-> 1439\u001b[0;31m               run_metadata_ptr)\n\u001b[0m\u001b[1;32m   1440\u001b[0m         \u001b[0;32mif\u001b[0m \u001b[0mrun_metadata\u001b[0m\u001b[0;34m:\u001b[0m\u001b[0;34m\u001b[0m\u001b[0;34m\u001b[0m\u001b[0m\n\u001b[1;32m   1441\u001b[0m           \u001b[0mproto_data\u001b[0m \u001b[0;34m=\u001b[0m \u001b[0mtf_session\u001b[0m\u001b[0;34m.\u001b[0m\u001b[0mTF_GetBuffer\u001b[0m\u001b[0;34m(\u001b[0m\u001b[0mrun_metadata_ptr\u001b[0m\u001b[0;34m)\u001b[0m\u001b[0;34m\u001b[0m\u001b[0;34m\u001b[0m\u001b[0m\n",
            "\u001b[0;31mKeyboardInterrupt\u001b[0m: "
          ]
        }
      ]
    },
    {
      "metadata": {
        "id": "1mWgZLeeVkz9",
        "colab_type": "code",
        "outputId": "8017d3d8-fe05-4bd8-a25a-008b3b11ae09",
        "colab": {
          "base_uri": "https://localhost:8080/",
          "height": 51
        }
      },
      "cell_type": "code",
      "source": [
        "#Test the best model got by far\n",
        "#model.set_weights(best_model) \n",
        "\n",
        "X_batch_list = []\n",
        "Y_batch_list = []\n",
        "for l in range(0, X_2.shape[0]):\n",
        "  for k in range(0, X_2.shape[1] // N_SAMPLES):\n",
        "    X_batch_list.append(X_2[l, k*N_SAMPLES:(k+1)*N_SAMPLES, :])\n",
        "    Y_batch_list.append(Y_2[l, k*N_SAMPLES:(k+1)*N_SAMPLES, :])\n",
        "\n",
        "X_2_test = np.stack(X_batch_list)\n",
        "Y_2_test = np.stack(Y_batch_list)\n",
        "\n",
        "score = model.evaluate(X_2_test,Y_2_test)\n",
        "\n",
        "print('error rate: %f %%' % ( (1-score[1]) * 100))"
      ],
      "execution_count": 0,
      "outputs": [
        {
          "output_type": "stream",
          "text": [
            "184/184 [==============================] - 0s 3ms/sample - loss: 0.8470 - acc: 0.2139\n",
            "error rate: 78.613587 %\n"
          ],
          "name": "stdout"
        }
      ]
    },
    {
      "metadata": {
        "id": "pxhNgYLt28WN",
        "colab_type": "code",
        "outputId": "9c379b8a-1f70-49dd-e237-031584087606",
        "colab": {
          "base_uri": "https://localhost:8080/",
          "height": 1360
        }
      },
      "cell_type": "code",
      "source": [
        "X_batch_list = []\n",
        "Y_batch_list = []\n",
        "\n",
        "total_score = 0\n",
        "total_n = 0\n",
        "\n",
        "for l in range(0, x_train.shape[0]):\n",
        "  index = SAMPLES_PAD + 1\n",
        "  count = 0\n",
        "  while index <= x_train[l, :, :].shape[0] - SAMPLES_PAD - 1:\n",
        "    X_batch_list.append(x_train[l, index-SAMPLES_PAD:index+SAMPLES_PAD, :])\n",
        "    Y_batch_list.append(y_train[l, index])\n",
        "    \n",
        "    index += 5\n",
        "\n",
        "    count += 1\n",
        "\n",
        "    if count == 5000:\n",
        "      X_2_test = np.stack(X_batch_list)\n",
        "      Y_2_test = np.stack(Y_batch_list)\n",
        "      \n",
        "      score = model.evaluate(X_2_test,Y_2_test)\n",
        "      total_score += score[1]\n",
        "      total_n += 1\n",
        "      \n",
        "      X_batch_list = []\n",
        "      Y_batch_list = []\n",
        "      count = 0\n",
        "\n",
        "#total_score /= float(total_n)"
      ],
      "execution_count": 30,
      "outputs": [
        {
          "output_type": "stream",
          "text": [
            "5000/5000 [==============================] - 3s 595us/sample - loss: 1.1921e-07 - acc: 1.0000\n",
            "8400/8400 [==============================] - 5s 574us/sample - loss: 9.5941 - acc: 0.4048\n",
            "8400/8400 [==============================] - 5s 574us/sample - loss: 10.3655 - acc: 0.3569\n",
            "8400/8400 [==============================] - 5s 576us/sample - loss: 7.0958e-08 - acc: 1.0000\n",
            "8400/8400 [==============================] - 5s 579us/sample - loss: 9.5941 - acc: 0.4048\n",
            "8400/8400 [==============================] - 5s 576us/sample - loss: 9.5960 - acc: 0.4046\n",
            "8400/8400 [==============================] - 5s 577us/sample - loss: 9.9817 - acc: 0.3807\n",
            "8400/8400 [==============================] - 5s 581us/sample - loss: 6.9097 - acc: 0.5713\n",
            "8400/8400 [==============================] - 5s 599us/sample - loss: 9.2123 - acc: 0.4285\n",
            "8400/8400 [==============================] - 5s 579us/sample - loss: 9.5941 - acc: 0.4048\n",
            "8400/8400 [==============================] - 5s 585us/sample - loss: 3.4577 - acc: 0.7855\n",
            "8400/8400 [==============================] - 5s 577us/sample - loss: 7.6772 - acc: 0.5237\n",
            "8400/8400 [==============================] - 5s 589us/sample - loss: 3.4539 - acc: 0.7857\n",
            "8400/8400 [==============================] - 5s 581us/sample - loss: 8.5215 - acc: 0.4713\n",
            "8400/8400 [==============================] - 5s 580us/sample - loss: 3.0720 - acc: 0.8094\n",
            "8400/8400 [==============================] - 5s 587us/sample - loss: 8.4447 - acc: 0.4761\n",
            "8400/8400 [==============================] - 5s 578us/sample - loss: 9.5941 - acc: 0.4048\n",
            "8400/8400 [==============================] - 5s 590us/sample - loss: 11.5148 - acc: 0.2856\n",
            "8400/8400 [==============================] - 5s 574us/sample - loss: 13.0499 - acc: 0.1904\n",
            "8400/8400 [==============================] - 5s 583us/sample - loss: 3.4558 - acc: 0.7856\n",
            "8400/8400 [==============================] - 5s 581us/sample - loss: 9.5941 - acc: 0.4048\n",
            "8400/8400 [==============================] - 5s 576us/sample - loss: 9.9798 - acc: 0.3808\n",
            "8400/8400 [==============================] - 5s 589us/sample - loss: 9.5960 - acc: 0.4046\n",
            "8400/8400 [==============================] - 5s 576us/sample - loss: 9.9798 - acc: 0.3808\n",
            "8400/8400 [==============================] - 5s 592us/sample - loss: 9.5960 - acc: 0.4046\n",
            "8400/8400 [==============================] - 5s 576us/sample - loss: 8.4428 - acc: 0.4762\n",
            "8400/8400 [==============================] - 5s 574us/sample - loss: 8.8285 - acc: 0.4523\n",
            "8400/8400 [==============================] - 5s 589us/sample - loss: 8.4447 - acc: 0.4761\n",
            "8400/8400 [==============================] - 5s 573us/sample - loss: 3.4558 - acc: 0.7856\n",
            "8400/8400 [==============================] - 5s 595us/sample - loss: 9.5941 - acc: 0.4048\n",
            "8400/8400 [==============================] - 5s 570us/sample - loss: 8.8304 - acc: 0.4521\n",
            "8400/8400 [==============================] - 5s 578us/sample - loss: 9.5941 - acc: 0.4048\n",
            "8400/8400 [==============================] - 5s 587us/sample - loss: 12.2824 - acc: 0.2380\n",
            "8400/8400 [==============================] - 5s 579us/sample - loss: 9.6843 - acc: 0.3992\n",
            "8400/8400 [==============================] - 5s 589us/sample - loss: 0.3838 - acc: 0.9762\n",
            "8400/8400 [==============================] - 5s 573us/sample - loss: 7.6753 - acc: 0.5238\n",
            "8400/8400 [==============================] - 5s 582us/sample - loss: 8.4428 - acc: 0.4762\n",
            "8400/8400 [==============================] - 5s 578us/sample - loss: 8.4428 - acc: 0.4762\n",
            "8400/8400 [==============================] - 5s 574us/sample - loss: 9.2123 - acc: 0.4285\n",
            "8400/8400 [==============================] - 5s 581us/sample - loss: 9.5941 - acc: 0.4048\n",
            "8400/8400 [==============================] - 5s 575us/sample - loss: 9.5730 - acc: 0.4061\n",
            "8400/8400 [==============================] - 5s 590us/sample - loss: 9.5941 - acc: 0.4048\n",
            "8400/8400 [==============================] - 5s 581us/sample - loss: 8.8304 - acc: 0.4521\n",
            "8400/8400 [==============================] - 5s 579us/sample - loss: 9.2123 - acc: 0.4285\n",
            "8400/8400 [==============================] - 5s 580us/sample - loss: 9.5941 - acc: 0.4048\n",
            "8400/8400 [==============================] - 5s 581us/sample - loss: 11.5148 - acc: 0.2856\n",
            "8400/8400 [==============================] - 5s 588us/sample - loss: 11.9504 - acc: 0.2586\n",
            "8400/8400 [==============================] - 5s 572us/sample - loss: 3.4558 - acc: 0.7856\n",
            "8400/8400 [==============================] - 5s 586us/sample - loss: 6.1421 - acc: 0.6189\n",
            "8400/8400 [==============================] - 5s 572us/sample - loss: 5.7584 - acc: 0.6427\n",
            "8400/8400 [==============================] - 5s 577us/sample - loss: 13.4836 - acc: 0.1635\n",
            "8400/8400 [==============================] - 5s 585us/sample - loss: 9.5941 - acc: 0.4048\n",
            "8400/8400 [==============================] - 5s 571us/sample - loss: 7.2934 - acc: 0.5475\n",
            "8400/8400 [==============================] - 5s 591us/sample - loss: 6.9097 - acc: 0.5713\n",
            "8400/8400 [==============================] - 5s 575us/sample - loss: 3.0720 - acc: 0.8094\n",
            "8400/8400 [==============================] - 5s 577us/sample - loss: 3.4558 - acc: 0.7856\n",
            "8400/8400 [==============================] - 5s 580us/sample - loss: 9.5941 - acc: 0.4048\n",
            "8400/8400 [==============================] - 5s 575us/sample - loss: 5.3746 - acc: 0.6665\n",
            "8400/8400 [==============================] - 5s 585us/sample - loss: 11.8986 - acc: 0.2618\n",
            "8400/8400 [==============================] - 5s 572us/sample - loss: 10.3655 - acc: 0.3569\n",
            "8400/8400 [==============================] - 5s 585us/sample - loss: 5.3727 - acc: 0.6667\n",
            "8400/8400 [==============================] - 5s 576us/sample - loss: 7.6772 - acc: 0.5237\n",
            "8400/8400 [==============================] - 5s 572us/sample - loss: 8.8285 - acc: 0.4523\n",
            "8400/8400 [==============================] - 5s 581us/sample - loss: 9.4118 - acc: 0.4161\n",
            "8400/8400 [==============================] - 5s 576us/sample - loss: 6.9097 - acc: 0.5713\n",
            "8400/8400 [==============================] - 5s 590us/sample - loss: 3.4520 - acc: 0.7858\n",
            "8400/8400 [==============================] - 5s 574us/sample - loss: 10.3655 - acc: 0.3569\n",
            "8400/8400 [==============================] - 5s 578us/sample - loss: 9.5941 - acc: 0.4048\n",
            "8400/8400 [==============================] - 5s 582us/sample - loss: 8.7728 - acc: 0.4557\n",
            "8400/8400 [==============================] - 5s 575us/sample - loss: 9.5941 - acc: 0.4048\n",
            "8400/8400 [==============================] - 5s 579us/sample - loss: 9.9779 - acc: 0.3810\n",
            "8400/8400 [==============================] - 5s 573us/sample - loss: 8.8285 - acc: 0.4523\n",
            "8400/8400 [==============================] - 5s 579us/sample - loss: 9.5941 - acc: 0.4048\n",
            "8400/8400 [==============================] - 5s 572us/sample - loss: 5.0580 - acc: 0.6862\n",
            "8400/8400 [==============================] - 5s 582us/sample - loss: 9.5941 - acc: 0.4048\n",
            "8400/8400 [==============================] - 5s 578us/sample - loss: 7.6791 - acc: 0.5236\n",
            "8400/8400 [==============================] - 5s 578us/sample - loss: 9.5941 - acc: 0.4048\n",
            "8400/8400 [==============================] - 5s 580us/sample - loss: 10.7473 - acc: 0.3332\n",
            "8400/8400 [==============================] - 5s 573us/sample - loss: 9.5960 - acc: 0.4046\n"
          ],
          "name": "stdout"
        }
      ]
    },
    {
      "metadata": {
        "id": "fFCAGk1d5GHp",
        "colab_type": "code",
        "colab": {
          "base_uri": "https://localhost:8080/",
          "height": 34
        },
        "outputId": "dc988d81-df81-410a-f55d-d5b12c75d355"
      },
      "cell_type": "code",
      "source": [
        "total_score /= float(total_n)\n",
        "print('error rate: %f %%' % ( (1-total_score) * 100))"
      ],
      "execution_count": 31,
      "outputs": [
        {
          "output_type": "stream",
          "text": [
            "error rate: 50.737643 %\n"
          ],
          "name": "stdout"
        }
      ]
    },
    {
      "metadata": {
        "id": "PyFwuqQZZvVS",
        "colab_type": "code",
        "colab": {
          "base_uri": "https://localhost:8080/",
          "height": 34
        },
        "outputId": "f2f090aa-6b59-42e5-ed30-1a23203f9839"
      },
      "cell_type": "code",
      "source": [
        "# Save model\n",
        "model_json = model.to_json()\n",
        "with open(\"model_LSTM.json\", \"w\") as json_file:\n",
        "    json_file.write(model_json)\n",
        "\n",
        "model.save_weights(\"model_LSTM.h5\")\n",
        "print(\"Saved model to disk\")"
      ],
      "execution_count": 37,
      "outputs": [
        {
          "output_type": "stream",
          "text": [
            "Saved model to disk\n"
          ],
          "name": "stdout"
        }
      ]
    }
  ]
}