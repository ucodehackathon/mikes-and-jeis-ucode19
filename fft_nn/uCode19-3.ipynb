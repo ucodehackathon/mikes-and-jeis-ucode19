{
  "nbformat": 4,
  "nbformat_minor": 0,
  "metadata": {
    "colab": {
      "name": "uCode19",
      "version": "0.3.2",
      "provenance": [],
      "collapsed_sections": []
    },
    "kernelspec": {
      "name": "python3",
      "display_name": "Python 3"
    },
    "accelerator": "GPU"
  },
  "cells": [
    {
      "metadata": {
        "id": "_sTcSznd1DJ7",
        "colab_type": "text"
      },
      "cell_type": "markdown",
      "source": [
        "#Imports"
      ]
    },
    {
      "metadata": {
        "id": "XtHTk5jTAcIk",
        "colab_type": "code",
        "colab": {}
      },
      "cell_type": "code",
      "source": [
        "import numpy as np\n",
        "from numpy import genfromtxt\n",
        "\n",
        "import scipy.io\n",
        "\n",
        "from matplotlib import pyplot as plt\n",
        "\n",
        "import keras\n",
        "from keras.models import model_from_json\n",
        "from keras.models import clone_model\n",
        "from keras.models import Sequential\n",
        "from keras.layers import *\n",
        "\n",
        "import tensorflow as tf\n",
        "\n",
        "from sklearn.model_selection import StratifiedKFold\n",
        "from sklearn.metrics import confusion_matrix\n",
        "from sklearn.utils.multiclass import unique_labels"
      ],
      "execution_count": 0,
      "outputs": []
    },
    {
      "metadata": {
        "id": "7NXpgYfdH259",
        "colab_type": "text"
      },
      "cell_type": "markdown",
      "source": [
        "#Get data\n",
        "This snipet connects to your drive where we assume the data is stored"
      ]
    },
    {
      "metadata": {
        "id": "gfcWH0jkID0g",
        "colab_type": "code",
        "outputId": "6b3ae19b-4759-4fa5-8e0a-036a523fdadb",
        "colab": {
          "base_uri": "https://localhost:8080/",
          "height": 189
        }
      },
      "cell_type": "code",
      "source": [
        "# Load the Drive helper and mount\n",
        "from google.colab import drive\n",
        "\n",
        "# This will prompt for authorization.\n",
        "drive.mount('/content/drive')"
      ],
      "execution_count": 1,
      "outputs": [
        {
          "output_type": "stream",
          "text": [
            "Go to this URL in a browser: https://accounts.google.com/o/oauth2/auth?client_id=947318989803-6bn6qk8qdgf4n4g3pfee6491hc0brc4i.apps.googleusercontent.com&redirect_uri=urn%3Aietf%3Awg%3Aoauth%3A2.0%3Aoob&scope=email%20https%3A%2F%2Fwww.googleapis.com%2Fauth%2Fdocs.test%20https%3A%2F%2Fwww.googleapis.com%2Fauth%2Fdrive%20https%3A%2F%2Fwww.googleapis.com%2Fauth%2Fdrive.photos.readonly%20https%3A%2F%2Fwww.googleapis.com%2Fauth%2Fpeopleapi.readonly&response_type=code\n",
            "\n",
            "Enter your authorization code:\n",
            "··········\n",
            "Mounted at /content/drive\n"
          ],
          "name": "stdout"
        }
      ]
    },
    {
      "metadata": {
        "id": "VDLUBCOk12qG",
        "colab_type": "text"
      },
      "cell_type": "markdown",
      "source": [
        "##-Load data\n",
        "Here we read the data from Google Drive and we create folds for cross validation"
      ]
    },
    {
      "metadata": {
        "id": "weXlgOoCTyI4",
        "colab_type": "code",
        "outputId": "37827df8-bfe3-4d36-a18e-9c7f9f5b833f",
        "colab": {
          "base_uri": "https://localhost:8080/",
          "height": 102
        }
      },
      "cell_type": "code",
      "source": [
        "my_data = genfromtxt('/content/drive/My Drive/data.csv', delimiter=',')\n",
        "\n",
        "#Randomize and save a 10% of the date for test\n",
        "np.random.shuffle(my_data)\n",
        "\n",
        "X_test = my_data[0:int(my_data.shape[0] * 0.1), 1:361]\n",
        "Y_test = my_data[0:int(my_data.shape[0] * 0.1), 0]\n",
        "\n",
        "while unique_labels(Y_test).size != 7:\n",
        "  np.random.shuffle(my_data)\n",
        "\n",
        "  X_test = my_data[0:int(my_data.shape[0] * 0.1), 1:361]\n",
        "  Y_test = my_data[0:int(my_data.shape[0] * 0.1), 0]\n",
        "  \n",
        "print(Y_test)\n",
        "\n",
        "X_train = my_data[int(my_data.shape[0] * 0.1) + 1:, 1:361]\n",
        "Y_train = my_data[int(my_data.shape[0] * 0.1) + 1:, 0]\n",
        "\n",
        "#Generate folds for the training partition\n",
        "skf = StratifiedKFold(n_splits = 5, shuffle = True, random_state = 69)\n",
        "skf.get_n_splits(X_train, Y_train)\n",
        "\n"
      ],
      "execution_count": 300,
      "outputs": [
        {
          "output_type": "stream",
          "text": [
            "[1. 4. 1. 2. 5. 1. 2. 4. 1. 2. 2. 1. 2. 1. 1. 1. 5. 1. 5. 1. 2. 1. 1. 2.\n",
            " 2. 1. 2. 5. 0. 4. 2. 2. 5. 1. 5. 2. 2. 0. 1. 0. 2. 1. 6. 2. 3. 5. 2. 1.\n",
            " 4. 2. 2. 3. 1. 5. 1. 3. 2. 2. 5. 1. 1. 2. 2. 2. 2. 2. 2. 2. 0. 2. 2. 3.\n",
            " 2. 0. 5.]\n"
          ],
          "name": "stdout"
        },
        {
          "output_type": "execute_result",
          "data": {
            "text/plain": [
              "5"
            ]
          },
          "metadata": {
            "tags": []
          },
          "execution_count": 300
        }
      ]
    },
    {
      "metadata": {
        "id": "YYt4Dc8kHfRZ",
        "colab_type": "text"
      },
      "cell_type": "markdown",
      "source": [
        "#Neural Network \n",
        "\n",
        "##-Model definition"
      ]
    },
    {
      "metadata": {
        "id": "7xEmu9khFDxo",
        "colab_type": "code",
        "colab": {}
      },
      "cell_type": "code",
      "source": [
        "\n",
        "\n",
        "\n",
        "model = keras.Sequential([\n",
        "    keras.layers.BatchNormalization(),\n",
        "    keras.layers.Dense(100, activation=None),\n",
        "    keras.layers.Dropout(0.5),\n",
        "    keras.layers.LeakyReLU(),\n",
        "    keras.layers.Dense(50, activation=None),\n",
        "    keras.layers.Dropout(0.5),\n",
        "    keras.layers.LeakyReLU(),\n",
        "    keras.layers.Dense(7, activation=tf.nn.softmax)\n",
        "])\n",
        "\n",
        "model.compile(optimizer='adam', \n",
        "              loss='sparse_categorical_crossentropy',\n",
        "              metrics=['accuracy'])\n"
      ],
      "execution_count": 0,
      "outputs": []
    },
    {
      "metadata": {
        "id": "RtwLMfzYHhp9",
        "colab_type": "text"
      },
      "cell_type": "markdown",
      "source": [
        "##-Model training\n",
        "We use a cross validation algorithm in order to avoid overfitting"
      ]
    },
    {
      "metadata": {
        "id": "Z4Ak_-sdHwe7",
        "colab_type": "code",
        "outputId": "3d18ddcc-dd40-42d2-fd14-60d743595d7e",
        "colab": {
          "base_uri": "https://localhost:8080/",
          "height": 34
        }
      },
      "cell_type": "code",
      "source": [
        "best_err = 100.0\n",
        "best_model = None\n",
        "\n",
        "for train_index, test_index in skf.split(X_train, Y_train):\n",
        "  #Get folds\n",
        "  X_train_fold, X_test_fold = X_train[train_index], X_train[test_index]\n",
        "  Y_train_fold, Y_test_fold = Y_train[train_index], Y_train[test_index]\n",
        "\n",
        "  #Train with the folds\n",
        "  model.fit(X_train_fold, Y_train_fold, epochs=100, verbose = 0)\n",
        "  \n",
        "  #Get accuracy\n",
        "  score = model.evaluate(X_test_fold,Y_test_fold,verbose=0)\n",
        "  err = (1-score[1]) * 100\n",
        "  \n",
        "  if err < best_err:\n",
        "    best_model = model.get_weights()\n",
        "    best_err = err\n",
        "\n",
        "print('best error train rate: %f %%' % ( best_err ))\n",
        "  "
      ],
      "execution_count": 302,
      "outputs": [
        {
          "output_type": "stream",
          "text": [
            "best error train rate: 0.000000 %\n"
          ],
          "name": "stdout"
        }
      ]
    },
    {
      "metadata": {
        "id": "q7eUPRLb2RZb",
        "colab_type": "text"
      },
      "cell_type": "markdown",
      "source": [
        "##-Test the best model obtained\n",
        "Use the test partition to evaluate our model"
      ]
    },
    {
      "metadata": {
        "id": "5DtkKLhkrvBn",
        "colab_type": "code",
        "outputId": "1b308216-c735-48c1-8ce2-66951396614a",
        "colab": {
          "base_uri": "https://localhost:8080/",
          "height": 51
        }
      },
      "cell_type": "code",
      "source": [
        "#Test the best model got by far\n",
        "model.set_weights(best_model) \n",
        "score = model.evaluate(X_test,Y_test)\n",
        "\n",
        "print('error rate: %f %%' % ( (1-score[1]) * 100))"
      ],
      "execution_count": 303,
      "outputs": [
        {
          "output_type": "stream",
          "text": [
            "75/75 [==============================] - 0s 161us/step\n",
            "error rate: 1.333333 %\n"
          ],
          "name": "stdout"
        }
      ]
    },
    {
      "metadata": {
        "id": "q8AwZupa2asI",
        "colab_type": "text"
      },
      "cell_type": "markdown",
      "source": [
        "###Some minnor info about the model trained"
      ]
    },
    {
      "metadata": {
        "id": "PClQtfm13Y6N",
        "colab_type": "code",
        "outputId": "daa91b53-58b7-4676-c777-863bbc7c57bc",
        "colab": {
          "base_uri": "https://localhost:8080/",
          "height": 425
        }
      },
      "cell_type": "code",
      "source": [
        "print(model.summary())"
      ],
      "execution_count": 304,
      "outputs": [
        {
          "output_type": "stream",
          "text": [
            "_________________________________________________________________\n",
            "Layer (type)                 Output Shape              Param #   \n",
            "=================================================================\n",
            "batch_normalization_22 (Batc (None, 360)               1440      \n",
            "_________________________________________________________________\n",
            "dense_64 (Dense)             (None, 100)               36100     \n",
            "_________________________________________________________________\n",
            "dropout_43 (Dropout)         (None, 100)               0         \n",
            "_________________________________________________________________\n",
            "leaky_re_lu_43 (LeakyReLU)   (None, 100)               0         \n",
            "_________________________________________________________________\n",
            "dense_65 (Dense)             (None, 50)                5050      \n",
            "_________________________________________________________________\n",
            "dropout_44 (Dropout)         (None, 50)                0         \n",
            "_________________________________________________________________\n",
            "leaky_re_lu_44 (LeakyReLU)   (None, 50)                0         \n",
            "_________________________________________________________________\n",
            "dense_66 (Dense)             (None, 7)                 357       \n",
            "=================================================================\n",
            "Total params: 42,947\n",
            "Trainable params: 42,227\n",
            "Non-trainable params: 720\n",
            "_________________________________________________________________\n",
            "None\n"
          ],
          "name": "stdout"
        }
      ]
    },
    {
      "metadata": {
        "id": "n_1yb4Sm2gGK",
        "colab_type": "text"
      },
      "cell_type": "markdown",
      "source": [
        "#Save the model to disk"
      ]
    },
    {
      "metadata": {
        "id": "oPVERtfD6PbK",
        "colab_type": "code",
        "outputId": "b4a0020e-ff3f-4208-d0c9-3800563e6b70",
        "colab": {
          "base_uri": "https://localhost:8080/",
          "height": 232
        }
      },
      "cell_type": "code",
      "source": [
        "# serialize model to JSON\n",
        "model_json = model.to_json()\n",
        "with open(\"model.json\", \"w\") as json_file:\n",
        "    json_file.write(model_json)\n",
        "# serialize weights to HDF5\n",
        "model.save_weights(\"model.h5\")\n",
        "print(\"Saved model to disk\")"
      ],
      "execution_count": 2,
      "outputs": [
        {
          "output_type": "error",
          "ename": "NameError",
          "evalue": "ignored",
          "traceback": [
            "\u001b[0;31m---------------------------------------------------------------------------\u001b[0m",
            "\u001b[0;31mNameError\u001b[0m                                 Traceback (most recent call last)",
            "\u001b[0;32m<ipython-input-2-e8a7a9a34233>\u001b[0m in \u001b[0;36m<module>\u001b[0;34m()\u001b[0m\n\u001b[0;32m----> 1\u001b[0;31m \u001b[0mmodel_json\u001b[0m \u001b[0;34m=\u001b[0m \u001b[0mmodel\u001b[0m\u001b[0;34m.\u001b[0m\u001b[0mto_json\u001b[0m\u001b[0;34m(\u001b[0m\u001b[0;34m)\u001b[0m\u001b[0;34m\u001b[0m\u001b[0;34m\u001b[0m\u001b[0m\n\u001b[0m\u001b[1;32m      2\u001b[0m \u001b[0;32mwith\u001b[0m \u001b[0mopen\u001b[0m\u001b[0;34m(\u001b[0m\u001b[0;34m\"model.json\"\u001b[0m\u001b[0;34m,\u001b[0m \u001b[0;34m\"w\"\u001b[0m\u001b[0;34m)\u001b[0m \u001b[0;32mas\u001b[0m \u001b[0mjson_file\u001b[0m\u001b[0;34m:\u001b[0m\u001b[0;34m\u001b[0m\u001b[0;34m\u001b[0m\u001b[0m\n\u001b[1;32m      3\u001b[0m     \u001b[0mjson_file\u001b[0m\u001b[0;34m.\u001b[0m\u001b[0mwrite\u001b[0m\u001b[0;34m(\u001b[0m\u001b[0mmodel_json\u001b[0m\u001b[0;34m)\u001b[0m\u001b[0;34m\u001b[0m\u001b[0;34m\u001b[0m\u001b[0m\n\u001b[1;32m      4\u001b[0m \u001b[0;31m# serialize weights to HDF5\u001b[0m\u001b[0;34m\u001b[0m\u001b[0;34m\u001b[0m\u001b[0;34m\u001b[0m\u001b[0m\n\u001b[1;32m      5\u001b[0m \u001b[0mmodel\u001b[0m\u001b[0;34m.\u001b[0m\u001b[0msave_weights\u001b[0m\u001b[0;34m(\u001b[0m\u001b[0;34m\"model.h5\"\u001b[0m\u001b[0;34m)\u001b[0m\u001b[0;34m\u001b[0m\u001b[0;34m\u001b[0m\u001b[0m\n",
            "\u001b[0;31mNameError\u001b[0m: name 'model' is not defined"
          ]
        }
      ]
    },
    {
      "metadata": {
        "id": "MPgY4f952lg5",
        "colab_type": "text"
      },
      "cell_type": "markdown",
      "source": [
        "#Load a model from disk\n",
        "Example of how to load an already trained neural network from disk"
      ]
    },
    {
      "metadata": {
        "id": "JFd6-dWL7KtD",
        "colab_type": "code",
        "outputId": "76f646fb-798f-438b-aafb-bdfbdcd8aeb9",
        "colab": {
          "base_uri": "https://localhost:8080/",
          "height": 34
        }
      },
      "cell_type": "code",
      "source": [
        "# load json and create model\n",
        "json_file = open('model.json', 'r')\n",
        "loaded_model_json = json_file.read()\n",
        "json_file.close()\n",
        "loaded_model = model_from_json(loaded_model_json)\n",
        "# load weights into new model\n",
        "loaded_model.load_weights(\"model.h5\")\n",
        "\n",
        "print(\"Loaded model from disk\")"
      ],
      "execution_count": 306,
      "outputs": [
        {
          "output_type": "stream",
          "text": [
            "Loaded model from disk\n"
          ],
          "name": "stdout"
        }
      ]
    },
    {
      "metadata": {
        "id": "I7ZIMgT42vjn",
        "colab_type": "text"
      },
      "cell_type": "markdown",
      "source": [
        "##Check model error with the test partition"
      ]
    },
    {
      "metadata": {
        "id": "n2N2hgJ_7h5L",
        "colab_type": "code",
        "outputId": "65bced69-4a78-4c94-f01b-40b975155d05",
        "colab": {
          "base_uri": "https://localhost:8080/",
          "height": 34
        }
      },
      "cell_type": "code",
      "source": [
        "loaded_model.compile(optimizer='adam', \n",
        "              loss='sparse_categorical_crossentropy',\n",
        "              metrics=['accuracy'])\n",
        "\n",
        "score = loaded_model.evaluate(X_test,Y_test,verbose=0)\n",
        "\n",
        "print('error rate: %f %%' % ( (1-score[1]) * 100))"
      ],
      "execution_count": 307,
      "outputs": [
        {
          "output_type": "stream",
          "text": [
            "error rate: 1.333333 %\n"
          ],
          "name": "stdout"
        }
      ]
    },
    {
      "metadata": {
        "id": "4T3XgTXp21kc",
        "colab_type": "text"
      },
      "cell_type": "markdown",
      "source": [
        "#Metrics\n",
        "##-Function to draw a confusion matrix"
      ]
    },
    {
      "metadata": {
        "id": "gIQnVXUXo-zw",
        "colab_type": "code",
        "colab": {}
      },
      "cell_type": "code",
      "source": [
        "def plot_confusion_matrix(y_true, y_pred, classes,\n",
        "                          normalize=False,\n",
        "                          title=None,\n",
        "                          cmap=plt.cm.Blues):\n",
        "    \"\"\"\n",
        "    This function prints and plots the confusion matrix.\n",
        "    Normalization can be applied by setting `normalize=True`.\n",
        "    \"\"\"\n",
        "    if not title:\n",
        "        if normalize:\n",
        "            title = 'Normalized confusion matrix'\n",
        "        else:\n",
        "            title = 'Confusion matrix, without normalization'\n",
        "\n",
        "    # Compute confusion matrix\n",
        "    cm = confusion_matrix(y_true, y_pred)\n",
        "    # Only use the labels that appear in the data\n",
        "    #classes = classes[unique_labels(y_true, y_pred)]\n",
        "    if normalize:\n",
        "        cm = cm.astype('float') / cm.sum(axis=1)[:, np.newaxis]\n",
        "        print(\"Normalized confusion matrix\")\n",
        "    else:\n",
        "        print('Confusion matrix, without normalization')\n",
        "\n",
        "    print(cm)\n",
        "\n",
        "    fig, ax = plt.subplots()\n",
        "    im = ax.imshow(cm, interpolation='nearest', cmap=cmap)\n",
        "    ax.figure.colorbar(im, ax=ax)\n",
        "    # We want to show all ticks...\n",
        "    ax.set(xticks=np.arange(cm.shape[1]),\n",
        "           yticks=np.arange(cm.shape[0]),\n",
        "           # ... and label them with the respective list entries\n",
        "           xticklabels=classes, yticklabels=classes,\n",
        "           title=title,\n",
        "           ylabel='True label',\n",
        "           xlabel='Predicted label')\n",
        "\n",
        "    # Rotate the tick labels and set their alignment.\n",
        "    plt.setp(ax.get_xticklabels(), rotation=45, ha=\"right\",\n",
        "             rotation_mode=\"anchor\")\n",
        "\n",
        "    # Loop over data dimensions and create text annotations.\n",
        "    fmt = '.2f' if normalize else 'd'\n",
        "    thresh = cm.max() / 2.\n",
        "    for i in range(cm.shape[0]):\n",
        "        for j in range(cm.shape[1]):\n",
        "            ax.text(j, i, format(cm[i, j], fmt),\n",
        "                    ha=\"center\", va=\"center\",\n",
        "                    color=\"white\" if cm[i, j] > thresh else \"black\")\n",
        "    fig.tight_layout()\n",
        "    return ax\n"
      ],
      "execution_count": 0,
      "outputs": []
    },
    {
      "metadata": {
        "id": "7Tqn97Ol27zg",
        "colab_type": "text"
      },
      "cell_type": "markdown",
      "source": [
        "##-Considered classes"
      ]
    },
    {
      "metadata": {
        "id": "L37u-Jp8pNM3",
        "colab_type": "code",
        "colab": {}
      },
      "cell_type": "code",
      "source": [
        "class_names = [\"Dribbling\", \"Pass-Left\", \"Pass-Right\", \"Running\", \"Shot-Left\", \"Shot-Right\", \"Walking\"]"
      ],
      "execution_count": 0,
      "outputs": []
    },
    {
      "metadata": {
        "id": "DK2aGaaC2_8a",
        "colab_type": "text"
      },
      "cell_type": "markdown",
      "source": [
        "##Draw normalized confusion matrix"
      ]
    },
    {
      "metadata": {
        "id": "j3SUqQHPmoNy",
        "colab_type": "code",
        "colab": {
          "base_uri": "https://localhost:8080/",
          "height": 656
        },
        "outputId": "09e2708d-d0f1-4226-a8c5-7400d3c8a0cd"
      },
      "cell_type": "code",
      "source": [
        "Y_prob = loaded_model.predict(X_test)\n",
        "Y_classes = Y_prob.argmax(axis=-1)\n",
        "\n",
        "# Plot normalized confusion matrix\n",
        "plot_confusion_matrix(Y_test, Y_classes, classes=class_names, normalize=True,\n",
        "                      title='Normalized confusion matrix')\n",
        "\n",
        "plt.show()"
      ],
      "execution_count": 310,
      "outputs": [
        {
          "output_type": "stream",
          "text": [
            "Normalized confusion matrix\n",
            "[[1.         0.         0.         0.         0.         0.\n",
            "  0.        ]\n",
            " [0.         0.95238095 0.04761905 0.         0.         0.\n",
            "  0.        ]\n",
            " [0.         0.         1.         0.         0.         0.\n",
            "  0.        ]\n",
            " [0.         0.         0.         1.         0.         0.\n",
            "  0.        ]\n",
            " [0.         0.         0.         0.         1.         0.\n",
            "  0.        ]\n",
            " [0.         0.         0.         0.         0.         1.\n",
            "  0.        ]\n",
            " [0.         0.         0.         0.         0.         0.\n",
            "  1.        ]]\n"
          ],
          "name": "stdout"
        },
        {
          "output_type": "display_data",
          "data": {
            "image/png": "[encoded data removed]",
            "text/plain": [
              "<Figure size 576x396 with 2 Axes>"
            ]
          },
          "metadata": {
            "tags": []
          }
        }
      ]
    }
  ]
}